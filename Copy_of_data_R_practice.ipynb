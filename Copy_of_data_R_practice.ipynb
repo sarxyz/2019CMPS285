{
  "nbformat": 4,
  "nbformat_minor": 0,
  "metadata": {
    "colab": {
      "name": "Copy of data_R_practice.ipynb",
      "provenance": [],
      "collapsed_sections": [],
      "include_colab_link": true
    },
    "language_info": {
      "codemirror_mode": "r",
      "file_extension": ".r",
      "mimetype": "text/x-r-source",
      "name": "R",
      "pygments_lexer": "r",
      "version": "3.3.1"
    },
    "kernelspec": {
      "display_name": "R",
      "language": "R",
      "name": "ir"
    }
  },
  "cells": [
    {
      "cell_type": "markdown",
      "metadata": {
        "id": "view-in-github",
        "colab_type": "text"
      },
      "source": [
        "<a href=\"https://colab.research.google.com/github/sarxyz/2019CMPS285/blob/master/Copy_of_data_R_practice.ipynb\" target=\"_parent\"><img src=\"https://colab.research.google.com/assets/colab-badge.svg\" alt=\"Open In Colab\"/></a>"
      ]
    },
    {
      "cell_type": "markdown",
      "metadata": {
        "id": "CcCXs04t4N5Q",
        "colab_type": "text"
      },
      "source": [
        "Practice session\n",
        "===\n",
        "Data Analysis in R"
      ]
    },
    {
      "cell_type": "markdown",
      "metadata": {
        "id": "puJbML3jdoSt",
        "colab_type": "text"
      },
      "source": [
        "##Warming up: review workding folder basics\n",
        "*  R works best if you have a dedicated folder for each separate project - the working folder. Put all data files in the working folder (or in subfolders).\n"
      ]
    },
    {
      "cell_type": "markdown",
      "metadata": {
        "id": "VU3C0_JyeOol",
        "colab_type": "text"
      },
      "source": [
        "Show current working folder:"
      ]
    },
    {
      "cell_type": "code",
      "metadata": {
        "id": "XGU0JFFCeJQm",
        "colab_type": "code",
        "outputId": "04bf0549-5409-409c-81a5-06caf4555d5b",
        "colab": {
          "base_uri": "https://localhost:8080/",
          "height": 34
        }
      },
      "source": [
        "getwd()\n"
      ],
      "execution_count": 0,
      "outputs": [
        {
          "output_type": "display_data",
          "data": {
            "text/plain": [
              "[1] \"/content\""
            ],
            "text/latex": "'/content'",
            "text/markdown": "'/content'",
            "text/html": [
              "'/content'"
            ]
          },
          "metadata": {
            "tags": []
          }
        }
      ]
    },
    {
      "cell_type": "markdown",
      "metadata": {
        "id": "6pgrV21teZwS",
        "colab_type": "text"
      },
      "source": [
        "Create a new folder:"
      ]
    },
    {
      "cell_type": "code",
      "metadata": {
        "id": "QkJsZAP0eWLA",
        "colab_type": "code",
        "colab": {}
      },
      "source": [
        "dir.create(\"data\")"
      ],
      "execution_count": 0,
      "outputs": []
    },
    {
      "cell_type": "markdown",
      "metadata": {
        "id": "8n42BV9Begfu",
        "colab_type": "text"
      },
      "source": [
        "Go to the new folder:"
      ]
    },
    {
      "cell_type": "code",
      "metadata": {
        "id": "X_a7c3y7etuh",
        "colab_type": "code",
        "colab": {}
      },
      "source": [
        "setwd(\"data\")"
      ],
      "execution_count": 0,
      "outputs": []
    },
    {
      "cell_type": "markdown",
      "metadata": {
        "id": "tOgijiMHexJp",
        "colab_type": "text"
      },
      "source": [
        "Show current working folder:"
      ]
    },
    {
      "cell_type": "code",
      "metadata": {
        "id": "Q0JBu8ws4N5W",
        "colab_type": "code",
        "outputId": "8aef2396-24c0-4f53-a11a-74122dcf6a3f",
        "colab": {
          "base_uri": "https://localhost:8080/",
          "height": 34
        }
      },
      "source": [
        "getwd()\n"
      ],
      "execution_count": 0,
      "outputs": [
        {
          "output_type": "display_data",
          "data": {
            "text/plain": [
              "[1] \"/content/data\""
            ],
            "text/latex": "'/content/data'",
            "text/markdown": "'/content/data'",
            "text/html": [
              "'/content/data'"
            ]
          },
          "metadata": {
            "tags": []
          }
        }
      ]
    },
    {
      "cell_type": "markdown",
      "metadata": {
        "id": "nLmxtiJBfE5F",
        "colab_type": "text"
      },
      "source": [
        "##Case Study: 2019 Forbes Global list\n",
        "*   The `forbes` dataset consists of 2000 rows (observations) on 8 variables describing companies’ rank, name, country, category, sales, profits, assets and market value. \n",
        "http://www.hpc.lsu.edu/training/weekly-materials/Downloads/Forbes2000_2019.csv.zip\n",
        "> * **`rank`** the ranking of the company\n",
        "> * **`name`** the name of the company\n",
        "> * **`country`** the country the company is situated in\n",
        "> * **`category`** the products the company produces\n",
        "> * **`sales`** the amount of sales of the company in billion USD\n",
        "> * **`profits`** the profit of the company in billion USD\n",
        "> * **`assets`** the assets of the company in billion USD\n",
        "> * **`marketvalue`** the market value of the company in billion USD\n"
      ]
    },
    {
      "cell_type": "markdown",
      "metadata": {
        "id": "DOEy_8Iif2HB",
        "colab_type": "text"
      },
      "source": [
        "# Step by step Data Analysis in R\n",
        "\n",
        "\n",
        "1. Get data\n",
        "2. Read data\n",
        "3. Inspect data\n",
        "4. Preprocess data (missing and dubious values, discard columns not needed etc.)\n",
        "5. Analyze data\n",
        "6. Generate report\n",
        "\n",
        "\n",
        "\n",
        "\n",
        "\n"
      ]
    },
    {
      "cell_type": "markdown",
      "metadata": {
        "id": "bbBzk3yTqcfB",
        "colab_type": "text"
      },
      "source": [
        "## 1. Getting Data\n"
      ]
    },
    {
      "cell_type": "markdown",
      "metadata": {
        "id": "xpY9oZ1EuN6Q",
        "colab_type": "text"
      },
      "source": [
        "Raw data \n",
        "* http://www.hpc.lsu.edu/training/weekly-materials/Downloads/Forbes2000_2019.csv.zip"
      ]
    },
    {
      "cell_type": "markdown",
      "metadata": {
        "id": "nffrOrxAuoPn",
        "colab_type": "text"
      },
      "source": [
        "* Choose one of the following to download the raw data file from internet, then upload to the colab\n",
        "> * Manually download the file to the working directory \n",
        "> * or with R function `download.file()`\n"
      ]
    },
    {
      "cell_type": "code",
      "metadata": {
        "colab_type": "code",
        "id": "IBlf23TbkMHo",
        "colab": {}
      },
      "source": [
        "# Fill the blanks in the download command\n",
        "# download.file(\" \", \" \")\n",
        "list.files() # List files in current folder"
      ],
      "execution_count": 0,
      "outputs": []
    },
    {
      "cell_type": "markdown",
      "metadata": {
        "id": "LcccqyNKuwPa",
        "colab_type": "text"
      },
      "source": [
        "* Unzip with the `unzip()` function"
      ]
    },
    {
      "cell_type": "code",
      "metadata": {
        "id": "rFEkbC74usdx",
        "colab_type": "code",
        "colab": {}
      },
      "source": [
        "# Fill the blanks in the unzip command\n",
        "# unzip(\" \",\" \")\n",
        "list.files()   # List files in current folder"
      ],
      "execution_count": 0,
      "outputs": []
    },
    {
      "cell_type": "markdown",
      "metadata": {
        "id": "VtLFhkTYj-ys",
        "colab_type": "text"
      },
      "source": [
        "##2. Reading data\n",
        "* R understands many different data formats and has lots of ways of reading/writing them (csv, xml, excel, sql, json etc.)\n",
        "\n",
        ">Input | Output | Purpose\n",
        ">--- | --- | ---\n",
        ">read.table (read.csv) | write.table (write.csv) | for reading/writing tabular data\n",
        ">readLines | writeLines | for reading/writing lines of a text file\n",
        ">source | dump | for reading/writing in R code files\n",
        ">dget | dput | for reading/writing in R code files\n",
        ">load | save | for reading in/saving workspaces\n",
        "\n",
        "* ` read.csv()` is identical to `read.table()` except that the default separator is a comma."
      ]
    },
    {
      "cell_type": "code",
      "metadata": {
        "id": "SkbNLI6tm2Zg",
        "colab_type": "code",
        "colab": {}
      },
      "source": [
        "# Fill the blank in the read.csv command\n",
        "# forbes <- read.csv(\" \",header=T,stringsAsFactors = FALSE,na.strings =\"?\",sep=\",\")"
      ],
      "execution_count": 0,
      "outputs": []
    },
    {
      "cell_type": "markdown",
      "metadata": {
        "id": "8RtebkNBoRsL",
        "colab_type": "text"
      },
      "source": [
        "##3. Inspecting data\n",
        "* `class()`: check object class\n",
        "* `dim()`: dimension of the data\n",
        "* `head()`: print on screen the first few lines of data, may use n as argument\n",
        "* `tail()`: print the last few lines of data"
      ]
    },
    {
      "cell_type": "code",
      "metadata": {
        "id": "y1WHb5fP4N5p",
        "colab_type": "code",
        "colab": {}
      },
      "source": [
        "# Fill the blanks in the following commands\n",
        "#class(   )\n",
        "#dim(    )\n",
        "#head(    ,n=50)"
      ],
      "execution_count": 0,
      "outputs": []
    },
    {
      "cell_type": "code",
      "metadata": {
        "id": "lww1Z3Q-4N5-",
        "colab_type": "code",
        "colab": {}
      },
      "source": [
        "# Fill the blank in the summary command\n",
        "# summary(    )"
      ],
      "execution_count": 0,
      "outputs": []
    },
    {
      "cell_type": "markdown",
      "metadata": {
        "id": "kao1Zy6iqGG_",
        "colab_type": "text"
      },
      "source": [
        "##4. Preprocess data \n"
      ]
    },
    {
      "cell_type": "markdown",
      "metadata": {
        "id": "gERvlv4cxSif",
        "colab_type": "text"
      },
      "source": [
        "### 4.1 Preprocessing - missing values\n",
        "* Missing values are denoted in R by NA or NaN for undefined mathematical operations.\n",
        "> * `is.na(x)` is used to test objects \"x\" if there are NAs\n",
        "> * Which one is NA? `which(is.na(x))`"
      ]
    },
    {
      "cell_type": "code",
      "metadata": {
        "id": "iKV7Qu9i4N6E",
        "colab_type": "code",
        "colab": {}
      },
      "source": [
        "Use one of the commands in the last session to "
      ],
      "execution_count": 0,
      "outputs": []
    },
    {
      "cell_type": "code",
      "metadata": {
        "id": "SGlBLdCZsZCB",
        "colab_type": "code",
        "colab": {}
      },
      "source": [
        "# Fill the blank to find out which ones are NAs on Sales\n",
        "# which(is.na(       ))"
      ],
      "execution_count": 0,
      "outputs": []
    },
    {
      "cell_type": "markdown",
      "metadata": {
        "id": "rLH9I8W44N6P",
        "colab_type": "text"
      },
      "source": [
        "* more about missing value inspection\n",
        "> * How many NAs? `table(is.na(x))`\n",
        "> * list of observations with missing values on profits `x(is.na(x),)`\n",
        "\n"
      ]
    },
    {
      "cell_type": "code",
      "metadata": {
        "id": "D-kdpDZS4N6R",
        "colab_type": "code",
        "colab": {}
      },
      "source": [
        "# Fill the blank to find out how many NAs on assets\n",
        "# table(     )\n",
        "# Fill the blank to find out observations with missing values on profits\n",
        "# "
      ],
      "execution_count": 0,
      "outputs": []
    },
    {
      "cell_type": "markdown",
      "metadata": {
        "id": "_aMsG0vktTSC",
        "colab_type": "text"
      },
      "source": [
        "* remember many R functions also have a logical “`na.rm`” option\n",
        "> * `na.rm=TRUE` means the NA values should be discarded\n"
      ]
    },
    {
      "cell_type": "code",
      "metadata": {
        "id": "dbFa1Akztear",
        "colab_type": "code",
        "colab": {}
      },
      "source": [
        "# Calculate the mean value of profits\n",
        "# mean(     )  # will get NA\n",
        "# mean(     )"
      ],
      "execution_count": 0,
      "outputs": []
    },
    {
      "cell_type": "markdown",
      "metadata": {
        "id": "HRQfa3cXt0-5",
        "colab_type": "text"
      },
      "source": [
        "* **Note: Not all missing values are marked with “NA” in the raw data!**\n"
      ]
    },
    {
      "cell_type": "markdown",
      "metadata": {
        "id": "8QqhU2X5uBjh",
        "colab_type": "text"
      },
      "source": [
        "* The simplest way to deal with the missing values is to remove them. \n",
        "> * If a column (variable) has a high percentage of the missing value, remove the whole column or just don’t use it for the analysis.\n",
        "> * If a row (observation) has a missing value, remove the row with `na.omit()`. e.g. \n"
      ]
    },
    {
      "cell_type": "code",
      "metadata": {
        "id": "yV26wnrUuOjq",
        "colab_type": "code",
        "colab": {}
      },
      "source": [
        "# remove the observations with missing values, save it to object \"forbes2\"\n",
        "#  <- \n",
        "# find out the dimensions of forbes2\n",
        "dim(forbes2)"
      ],
      "execution_count": 0,
      "outputs": []
    },
    {
      "cell_type": "markdown",
      "metadata": {
        "id": "RnVQ-jx2uf-J",
        "colab_type": "text"
      },
      "source": [
        "* Alternatively, the missing values can be replaced by basic statistics e.g. \n",
        "> * replace by mean \n"
      ]
    },
    {
      "cell_type": "code",
      "metadata": {
        "id": "tbWXSnm_umwo",
        "colab_type": "code",
        "outputId": "73e857b4-a55f-4b2b-9971-2950717b93a9",
        "colab": {
          "base_uri": "https://localhost:8080/",
          "height": 34
        }
      },
      "source": [
        "for(i in 1:nrow(forbes)){\n",
        "  if(is.na(forbes$profits[i])==TRUE){\n",
        "  forbes$profits[i] <- mean(forbes$profits, na.rm = TRUE)\n",
        "  }\n",
        "}\n",
        "for(i in 1:nrow(forbes)){\n",
        "  if(is.na(forbes$sales[i])==TRUE){\n",
        "  forbes$sales[i] <- mean(forbes$sales, na.rm = TRUE)\n",
        "  }\n",
        "}\n",
        "for(i in 1:nrow(forbes)){\n",
        "  if(is.na(forbes$assets[i])==TRUE){\n",
        "  forbes$assets[i] <- mean(forbes$assets, na.rm = TRUE)\n",
        "  }\n",
        "}\n",
        "dim(forbes)"
      ],
      "execution_count": 0,
      "outputs": [
        {
          "output_type": "display_data",
          "data": {
            "text/plain": [
              "[1] 2000    7"
            ],
            "text/latex": "\\begin{enumerate*}\n\\item 2000\n\\item 7\n\\end{enumerate*}\n",
            "text/markdown": "1. 2000\n2. 7\n\n\n",
            "text/html": [
              "<style>\n",
              ".list-inline {list-style: none; margin:0; padding: 0}\n",
              ".list-inline>li {display: inline-block}\n",
              ".list-inline>li:not(:last-child)::after {content: \"\\00b7\"; padding: 0 .5ex}\n",
              "</style>\n",
              "<ol class=list-inline><li>2000</li><li>7</li></ol>\n"
            ]
          },
          "metadata": {
            "tags": []
          }
        }
      ]
    },
    {
      "cell_type": "markdown",
      "metadata": {
        "id": "nkNPSPoKvWdZ",
        "colab_type": "text"
      },
      "source": [
        "###4.2 Preprocessing - subsetting data\n",
        "* At most occasions we do not need all of the raw data\n",
        "* There are a number of methods of extracting a subset of R objects\n",
        "* Subsetting data can be done either by row or by column \n"
      ]
    },
    {
      "cell_type": "markdown",
      "metadata": {
        "id": "MoPex-0DvrTA",
        "colab_type": "text"
      },
      "source": [
        "#### 4.2.1 Subsetting by row: use conditions\n",
        "Fill the blanks to find all companies with negative profit:\n"
      ]
    },
    {
      "cell_type": "code",
      "metadata": {
        "id": "T9WIn_YSv443",
        "colab_type": "code",
        "colab": {}
      },
      "source": [
        "# forbes[          ,c(\"name\",\"sales\",\"profits\",\"assets\")]"
      ],
      "execution_count": 0,
      "outputs": []
    },
    {
      "cell_type": "markdown",
      "metadata": {
        "id": "iN6Aecr72Xsh",
        "colab_type": "text"
      },
      "source": [
        "Fill the blanks to find the number of companies in each country with profits above 5 billion US dollars"
      ]
    },
    {
      "cell_type": "code",
      "metadata": {
        "id": "GdKNAiOO2ZZ7",
        "colab_type": "code",
        "colab": {}
      },
      "source": [
        "# forbes3 <- forbes[     ,c(\"name\",\"country\",\"profits\")]\n",
        "# table(     )"
      ],
      "execution_count": 0,
      "outputs": []
    },
    {
      "cell_type": "markdown",
      "metadata": {
        "id": "O1i26j1_wZ7x",
        "colab_type": "text"
      },
      "source": [
        "Find three companies with largest sale volumne:\n"
      ]
    },
    {
      "cell_type": "code",
      "metadata": {
        "id": "ew8W4085we18",
        "colab_type": "code",
        "colab": {}
      },
      "source": [
        "companies <- forbes$name  # or companies <- forbes[,\"name\"] \n",
        "order_sales <- order(forbes$sales, decreasing=T)\n",
        "#company names\n",
        "companies[order_sales[1:3]]\n",
        "#company sales\n",
        "head(sort(forbes$sales,decreasing=T),n=3)"
      ],
      "execution_count": 0,
      "outputs": []
    },
    {
      "cell_type": "markdown",
      "metadata": {
        "id": "64W1m4j62C_K",
        "colab_type": "text"
      },
      "source": [
        "Fill the blanks below to find first 50 companies in the Forbes dataset with the highest profit\n"
      ]
    },
    {
      "cell_type": "code",
      "metadata": {
        "id": "wdNpeHhL2I8I",
        "colab_type": "code",
        "colab": {}
      },
      "source": [
        "companies <- forbes$name   \n",
        "order_profit <- order(    ,      )   # order() returns the indices of the vector in sorted order\n",
        "companies[order_profit[   ]]\n",
        "head(   (    ,decreasing=T),   )"
      ],
      "execution_count": 0,
      "outputs": []
    },
    {
      "cell_type": "markdown",
      "metadata": {
        "id": "qPOuTabFw5RA",
        "colab_type": "text"
      },
      "source": [
        "####4.2.2 Subsetting by row: use `subset()` function\n",
        "Fill the blanks below to find all German companies with negative profit\n"
      ]
    },
    {
      "cell_type": "code",
      "metadata": {
        "id": "8Mn7AE7Rw_uB",
        "colab_type": "code",
        "colab": {}
      },
      "source": [
        "# Germanycomp <- subset(    ,    )\n",
        "# Germanycomp[       ,c(\"name\",\"sales\",\"profits\",\"assets\")]"
      ],
      "execution_count": 0,
      "outputs": []
    },
    {
      "cell_type": "markdown",
      "metadata": {
        "colab_type": "text",
        "id": "3k8ejtrGWKHv"
      },
      "source": [
        "##Solution\n",
        "Find all German companies with negative profit"
      ]
    },
    {
      "cell_type": "code",
      "metadata": {
        "id": "XyUxuKBRWSg4",
        "colab_type": "code",
        "colab": {}
      },
      "source": [
        "Germanycomp <- subset(forbes, country == \"Germany\")\n",
        "Germanycomp[Germanycomp$profits < 0,c(\"name\",\"sales\",\"profits\",\"assets\")]"
      ],
      "execution_count": 0,
      "outputs": []
    },
    {
      "cell_type": "markdown",
      "metadata": {
        "colab_type": "text",
        "id": "wercZnudXaK-"
      },
      "source": [
        "Find the number of companies in each country with profits above 5 billion US dollars"
      ]
    },
    {
      "cell_type": "code",
      "metadata": {
        "id": "5KAik9JcXmEZ",
        "colab_type": "code",
        "colab": {}
      },
      "source": [
        "forbes3 <- forbes[forbes$profits > 5,c(\"name\",\"country\",\"profits\")]\n",
        "table(forbes3[,\"country\"])"
      ],
      "execution_count": 0,
      "outputs": []
    },
    {
      "cell_type": "markdown",
      "metadata": {
        "colab_type": "text",
        "id": "JPKhOyPtXWMa"
      },
      "source": [
        "Find first 50 companies in the Forbes dataset with the highest profit\n"
      ]
    },
    {
      "cell_type": "code",
      "metadata": {
        "id": "5NhsCOrpXfbz",
        "colab_type": "code",
        "colab": {}
      },
      "source": [
        "companies <- forbes$name   \n",
        "order_profit <- order(forbes$profits, decreasing=T)   # order() returns the indices of the vector in sorted order\n",
        "companies[order_profit[1:50]]\n",
        "head(sort(forbes$profits,decreasing=T),n=50)"
      ],
      "execution_count": 0,
      "outputs": []
    },
    {
      "cell_type": "markdown",
      "metadata": {
        "id": "B4b0rfY-xgJ4",
        "colab_type": "text"
      },
      "source": [
        "####4.2.3 Subsetting by column\n",
        "Create another dataframe with only numeric variables (i.e. only keep columns of sales, profits, assets and marketvalue)"
      ]
    },
    {
      "cell_type": "code",
      "metadata": {
        "id": "tw_SDfhqxvjD",
        "colab_type": "code",
        "colab": {}
      },
      "source": [
        "#use data.frame function\n",
        "forbes3 <- data.frame(sales=forbes$sales,profits=forbes$profits,\n",
        "           assets=forbes$assets, mvalue=forbes$marketvalue)\n",
        "str(forbes3)\n",
        "\n",
        "# Fill the blank below\n",
        "#use subset() function\n",
        "# forbes4 <- subset(         )\n",
        "str(forbes4)\n",
        "\n",
        "#or simply use indexing\n",
        "# Fill the blank below\n",
        "# forbes5 <- forbes[     ]\n",
        "str(forbes5)"
      ],
      "execution_count": 0,
      "outputs": []
    },
    {
      "cell_type": "markdown",
      "metadata": {
        "id": "5bW4-u2B68o9",
        "colab_type": "text"
      },
      "source": [
        "## Solution"
      ]
    },
    {
      "cell_type": "code",
      "metadata": {
        "id": "I_wyATqh6_nY",
        "colab_type": "code",
        "colab": {}
      },
      "source": [
        "#use data.frame function\n",
        "# forbes3 <- data.frame(sales=forbes$sales,profits=forbes$profits,\n",
        "           assets=forbes$assets, mvalue=forbes$marketvalue)\n",
        "str(forbes3)\n",
        "\n",
        "#use subset() function\n",
        "# forbes4 <- subset(forbes,select=c(sales,profits,assets,marketvalue))\n",
        "str(forbes4)\n",
        "\n",
        "#or simply use indexing\n",
        "# forbes5 <- forbes[,c(5:8)]\n",
        "str(forbes5)"
      ],
      "execution_count": 0,
      "outputs": []
    },
    {
      "cell_type": "markdown",
      "metadata": {
        "id": "r1R3wV1IyEQC",
        "colab_type": "text"
      },
      "source": [
        "### 4.3 Preprocessing – Factors\n",
        "* factors are variables in R which take on a limited number of different values; such variables are often referred to as categorical variables\n",
        "\n",
        "\n",
        "Convert characters to (unordered) factors:"
      ]
    },
    {
      "cell_type": "code",
      "metadata": {
        "id": "nioNugIYyMoh",
        "colab_type": "code",
        "colab": {}
      },
      "source": [
        "forbes$country<-factor(forbes$country)\n",
        "str(forbes)"
      ],
      "execution_count": 0,
      "outputs": []
    },
    {
      "cell_type": "markdown",
      "metadata": {
        "id": "V8RCDhbMyhI8",
        "colab_type": "text"
      },
      "source": [
        "* Small classes could be merged into a larger class. Why?\n",
        "> * For better model performance. E.g. Classification and Regression Trees tend to split using the variables with many categories.\n",
        "> * Actual needs\n",
        "Some categories have just a few subjects"
      ]
    },
    {
      "cell_type": "code",
      "metadata": {
        "id": "v5dHXoPMyruY",
        "colab_type": "code",
        "colab": {}
      },
      "source": [
        "table(forbes$country)"
      ],
      "execution_count": 0,
      "outputs": []
    },
    {
      "cell_type": "markdown",
      "metadata": {
        "id": "MbNTKIxHzJDi",
        "colab_type": "text"
      },
      "source": [
        "* Merge small classes into a larger classes\n",
        "\n",
        "Merge all South American countries to \"Venezuela\""
      ]
    },
    {
      "cell_type": "code",
      "metadata": {
        "id": "5W8TxPeBzjHB",
        "colab_type": "code",
        "colab": {}
      },
      "source": [
        "forbes$country[(forbes$country==\"Bahamas\")|(forbes$country==\"Bermuda\")|(forbes$country==\"Brazil\")|(forbes$country==\"Cayman Islands\")|(forbes$country==\"Chile\")|(forbes$country==\"Panama/ United Kingdom\")|(forbes$country==\"Peru\")]<-\"Venezuela\""
      ],
      "execution_count": 0,
      "outputs": []
    },
    {
      "cell_type": "markdown",
      "metadata": {
        "id": "yDJPSXm6zq7z",
        "colab_type": "text"
      },
      "source": [
        "Merge small classes into a larger classes"
      ]
    },
    {
      "cell_type": "code",
      "metadata": {
        "id": "n-TKo6aQz1mg",
        "colab_type": "code",
        "colab": {}
      },
      "source": [
        "forbes$country[(forbes$country==\"Austria\")|(forbes$country==\"Belgium\")|(forbes$country==\"Czech Republic\")|(forbes$country==\"Denmark\")|(forbes$country==\"Finland\")|(forbes$country==\"France\")|(forbes$country==\"Germany\")|(forbes$country==\"Greece\")|(forbes$country==\"Hungary\")|(forbes$country==\"Ireland\")|(forbes$country==\"Italy\")|(forbes$country==\"Luxembourg\")|(forbes$country==\"Netherlands\")|(forbes$country==\"Norway\")|(forbes$country==\"Poland\")|(forbes$country==\"Portugal\")|(forbes$country==\"Russia\")|(forbes$country==\"Spain\")|(forbes$country==\"Sweden\")|(forbes$country==\"Switzerland\")|(forbes$country==\"Turkey\")|(forbes$country==\"France/ United Kingdom\")|(forbes$country==\"United Kingdom/ Netherlands\")|(forbes$country==\"Netherlands/ United Kingdom\")]<-\"United Kingdom\"\n",
        "forbes$country[(forbes$country==\"China\")|(forbes$country==\"Hong Kong/China\")|(forbes$country==\"Indonesia\")|(forbes$country==\"Japan\")|(forbes$country==\"Kong/China\")|(forbes$country==\"Korea\")|(forbes$country==\"Malaysia\")|(forbes$country==\"Philippines\")|(forbes$country==\"Singapore\")|(forbes$country==\"South Korea\")|(forbes$country==\"Taiwan\")]<-\"Thailand\"\n",
        "forbes$country[(forbes$country==\"Africa\")|(forbes$country==\"Australia\")|(forbes$country==\"India\")|(forbes$country==\"Australia/ United Kingdom\")|(forbes$country==\"Islands\")|(forbes$country==\"Israel\")|(forbes$country==\"Jordan\")|(forbes$country==\"Liberia\")|(forbes$country==\"Mexico\")|(forbes$country==\"New Zealand\")|(forbes$country==\"Pakistan\")|(forbes$country==\"South Africa\")|(forbes$country==\"United Kingdom/ Australia\")]<-\"United Kingdom/ South Africa\""
      ],
      "execution_count": 0,
      "outputs": []
    },
    {
      "cell_type": "markdown",
      "metadata": {
        "id": "H6ZanpW70XSj",
        "colab_type": "text"
      },
      "source": [
        "* Drop those levels with zero counts\n",
        "\n",
        "Use `droplevels()` function:\n"
      ]
    },
    {
      "cell_type": "code",
      "metadata": {
        "id": "bXODV7KY0ni4",
        "colab_type": "code",
        "colab": {}
      },
      "source": [
        "forbes$country<-droplevels(forbes$country)"
      ],
      "execution_count": 0,
      "outputs": []
    },
    {
      "cell_type": "markdown",
      "metadata": {
        "id": "_kyU02Vm0yvh",
        "colab_type": "text"
      },
      "source": [
        "Now we can check the new frequency tables:"
      ]
    },
    {
      "cell_type": "code",
      "metadata": {
        "id": "mjjqV7Ui02oH",
        "colab_type": "code",
        "colab": {}
      },
      "source": [
        "table(forbes$country)"
      ],
      "execution_count": 0,
      "outputs": []
    },
    {
      "cell_type": "markdown",
      "metadata": {
        "id": "hPwB5uT409eQ",
        "colab_type": "text"
      },
      "source": [
        "* Rename each class"
      ]
    },
    {
      "cell_type": "code",
      "metadata": {
        "id": "CHdjaHLq1AYT",
        "colab_type": "code",
        "colab": {}
      },
      "source": [
        "levels(forbes$country)<-c(\"Canada\",\"East/Southeast Asia\",\"Europe\",\"Other\",\"United States\",\"Latin America\")\n",
        "levels(forbes$country)"
      ],
      "execution_count": 0,
      "outputs": []
    },
    {
      "cell_type": "markdown",
      "metadata": {
        "id": "7XZclPFj1ZB7",
        "colab_type": "text"
      },
      "source": [
        "###4.4 Export the cleaned dataset (Important!)\n",
        "* Save forbes to Forbes2000_clean.csv"
      ]
    },
    {
      "cell_type": "code",
      "metadata": {
        "id": "1hyWWnp51kWL",
        "colab_type": "code",
        "colab": {}
      },
      "source": [
        "write.csv(forbes,\"Forbes2000_2019_clean.csv\",row.names=FALSE)\n",
        "list.files()"
      ],
      "execution_count": 0,
      "outputs": []
    },
    {
      "cell_type": "markdown",
      "metadata": {
        "id": "zreO0WEd2gpD",
        "colab_type": "text"
      },
      "source": [
        "## 5. Data analysis\n"
      ]
    },
    {
      "cell_type": "markdown",
      "metadata": {
        "id": "Osw6lYbu4UUL",
        "colab_type": "text"
      },
      "source": [
        "###5.2 Import the cleaned dataset (Optional)\n",
        "* Subsetting by column\n",
        "Create a dataframe with the clean data"
      ]
    },
    {
      "cell_type": "code",
      "metadata": {
        "id": "9ghM_DIK4ffD",
        "colab_type": "code",
        "colab": {}
      },
      "source": [
        "forbes_clean <- read.csv(\"Forbes2000_2019_clean.csv\",header=T,stringsAsFactors = T,na.strings =\"?\",sep=\",\")\n",
        "str(forbes_clean)"
      ],
      "execution_count": 0,
      "outputs": []
    },
    {
      "cell_type": "markdown",
      "metadata": {
        "id": "Bcf3wU_IA_hZ",
        "colab_type": "text"
      },
      "source": [
        "###5.3 Extract Variables \n",
        "* Create another data frame with only numeric variables + country\n",
        "\n",
        "Hint: Refer to 4.2.3 Subsetting by column"
      ]
    },
    {
      "cell_type": "code",
      "metadata": {
        "id": "jFDVjnz4CVBT",
        "colab_type": "code",
        "colab": {}
      },
      "source": [
        "# Fill the blank below:\n",
        "# forbes_clean <- \n",
        "str(forbes_clean)"
      ],
      "execution_count": 0,
      "outputs": []
    },
    {
      "cell_type": "markdown",
      "metadata": {
        "id": "yS8zt-Bq46lR",
        "colab_type": "text"
      },
      "source": [
        "###5.4 Training Set and Test Set\n",
        "* Dataset could be randomly split into two parts: training set and test set. \n"
      ]
    },
    {
      "cell_type": "code",
      "metadata": {
        "id": "yFDob7OX5DB4",
        "colab_type": "code",
        "colab": {}
      },
      "source": [
        "set.seed(1) #set random seed reproducible\n",
        "indx <- sample(1:1995,size=1995,replace=F)\n",
        "forbes.train <- forbes_clean[indx[1:1600],]\n",
        "forbes.test <- forbes_clean[indx[1601:1995],]"
      ],
      "execution_count": 0,
      "outputs": []
    },
    {
      "cell_type": "markdown",
      "metadata": {
        "id": "ZSws0mVIGF-K",
        "colab_type": "text"
      },
      "source": [
        "##Exercise \n",
        "1. Use the `lm()` function to perform a multiple linear regression with profits as the response and all other numeric variables as the predictors. Use the `summary()` function to print the results. \n"
      ]
    },
    {
      "cell_type": "code",
      "metadata": {
        "id": "PUWzXPyhGVFk",
        "colab_type": "code",
        "colab": {}
      },
      "source": [
        "forbes_clean2 <- forbes_clean[,c(2:5)]  # create a new dataframe with only numeric variables included\n",
        "set.seed(3) \n",
        "indx <- sample(1:1995,size=1995,replace=F)\n",
        "forbes.train <- forbes_clean2[indx[1:1600],]\n",
        "forbes.test <- forbes_clean2[indx[1601:1995],]\n",
        "str(forbes.train)"
      ],
      "execution_count": 0,
      "outputs": []
    },
    {
      "cell_type": "code",
      "metadata": {
        "id": "ByWA1lihE0OS",
        "colab_type": "code",
        "colab": {}
      },
      "source": [
        "lm <- lm(   profits ~ . , data=forbes.train     )\n",
        "summary(lm)"
      ],
      "execution_count": 0,
      "outputs": []
    },
    {
      "cell_type": "markdown",
      "metadata": {
        "id": "Hm4KasWEGWi4",
        "colab_type": "text"
      },
      "source": [
        "2. Comment on the output. For instance:  Is there a relationship between the predictors and the response? \n"
      ]
    },
    {
      "cell_type": "markdown",
      "metadata": {
        "id": "lmB6_YXLGaNJ",
        "colab_type": "text"
      },
      "source": [
        "3. Which predictors appear to have a statistically significant relationship to the response? \n"
      ]
    },
    {
      "cell_type": "markdown",
      "metadata": {
        "id": "icDSRv30GdJi",
        "colab_type": "text"
      },
      "source": [
        "4. What does the coefficient for the sales variable suggest?\n"
      ]
    },
    {
      "cell_type": "markdown",
      "metadata": {
        "id": "AmWkvi88Nlwn",
        "colab_type": "text"
      },
      "source": [
        "### Bonus questions:"
      ]
    },
    {
      "cell_type": "markdown",
      "metadata": {
        "id": "jkDB5eTjGf8E",
        "colab_type": "text"
      },
      "source": [
        "5. Use the ^ symbols to fit linear regression models with interaction effects. \u000bDo any interactions appear to be statistically significant? \n"
      ]
    },
    {
      "cell_type": "code",
      "metadata": {
        "id": "z-T8BBllGj-j",
        "colab_type": "code",
        "colab": {}
      },
      "source": [
        "lm2 <- lm(  profits ~     , data = forbes.train)\n",
        "summary(lm2)"
      ],
      "execution_count": 0,
      "outputs": []
    },
    {
      "cell_type": "markdown",
      "metadata": {
        "id": "a6oifEd2HvRe",
        "colab_type": "text"
      },
      "source": [
        "6. Compare two models you just fitted with MAD and RMSE. Which model has better predictive results in terms of MAD and RMSE?"
      ]
    },
    {
      "cell_type": "code",
      "metadata": {
        "id": "9u2ee0WGH-nw",
        "colab_type": "code",
        "colab": {}
      },
      "source": [
        "# MLR model without interactions \n",
        "lm.yhat <-  \n",
        "lm.y <-  \n",
        "lm.rmse <- \n",
        "lm.rmse\n",
        "lm.abs = abs(    )\n",
        "lm.mad = (sum( ))/395 \n",
        "lm.mad\n",
        "\n",
        "# MLR model with all interactions\n",
        "lm2.yhat <-  \n",
        "lm2.y <-  \n",
        "lm2.rmse <- \n",
        "lm2.rmse\n",
        "lm2.abs = abs(   ) \n",
        "lm2.mad = (sum(   ))/395 \n",
        "lm2.mad"
      ],
      "execution_count": 0,
      "outputs": []
    },
    {
      "cell_type": "markdown",
      "metadata": {
        "colab_type": "text",
        "id": "dSlz-hHPabLC"
      },
      "source": [
        "##Solution \n",
        "1. Use the `lm()` function to perform a multiple linear regression with profits as the response and all other numeric variables as the predictors. Use the `summary()` function to print the results. \n"
      ]
    },
    {
      "cell_type": "code",
      "metadata": {
        "id": "c4xDOVzWapb_",
        "colab_type": "code",
        "colab": {}
      },
      "source": [
        "lm <- lm(profits ~ ., data = forbes.train)\n",
        "summary(lm)"
      ],
      "execution_count": 0,
      "outputs": []
    },
    {
      "cell_type": "markdown",
      "metadata": {
        "colab_type": "text",
        "id": "vagC3fDwafbd"
      },
      "source": [
        "5. Use the ^ symbols to fit linear regression models with interaction effects. \u000bDo any interactions appear to be statistically significant? \n"
      ]
    },
    {
      "cell_type": "code",
      "metadata": {
        "id": "vDOcdzeGalnx",
        "colab_type": "code",
        "colab": {}
      },
      "source": [
        "lm2 <- lm(profits ~ (sales + assets + marketvalue)^3, data = forbes.train)\n",
        "summary(lm2)"
      ],
      "execution_count": 0,
      "outputs": []
    },
    {
      "cell_type": "markdown",
      "metadata": {
        "colab_type": "text",
        "id": "AGqtQnlpahAD"
      },
      "source": [
        "6. Compare two models you just fitted with MAD and RMSE. Which model has better predictive results in terms of MAD and RMSE?"
      ]
    },
    {
      "cell_type": "code",
      "metadata": {
        "id": "11_anmUiajcg",
        "colab_type": "code",
        "outputId": "7f914e23-2abf-4711-caa6-7f4dafb68258",
        "colab": {
          "base_uri": "https://localhost:8080/",
          "height": 86
        }
      },
      "source": [
        "# MLR model without interactions \n",
        "lm.yhat <- predict(lm, newdata = forbes.test) \n",
        "lm.y <- forbes.test[\"profits\"] \n",
        "lm.rmse <- sqrt(mean(data.matrix((lm.y - lm.yhat)^2)))\n",
        "lm.rmse\n",
        "lm.abs = abs(lm.y - lm.yhat) \n",
        "lm.mad = (sum(lm.abs))/395 \n",
        "lm.mad\n",
        "\n",
        "# MLR model with all interactions\n",
        "lm2.yhat <- predict(lm2, newdata = forbes.test) \n",
        "lm2.y <- forbes.test[\"profits\"] \n",
        "lm2.rmse <- sqrt(mean(data.matrix((lm2.y - lm2.yhat)^2)))\n",
        "lm2.rmse\n",
        "lm2.abs = abs(lm2.y - lm2.yhat) \n",
        "lm2.mad = (sum(lm2.abs))/395 \n",
        "lm2.mad"
      ],
      "execution_count": 0,
      "outputs": [
        {
          "output_type": "display_data",
          "data": {
            "text/plain": [
              "[1] 1.178624"
            ],
            "text/latex": "1.17862370750593",
            "text/markdown": "1.17862370750593",
            "text/html": [
              "1.17862370750593"
            ]
          },
          "metadata": {
            "tags": []
          }
        },
        {
          "output_type": "display_data",
          "data": {
            "text/plain": [
              "[1] 0.4273479"
            ],
            "text/latex": "0.427347906897058",
            "text/markdown": "0.427347906897058",
            "text/html": [
              "0.427347906897058"
            ]
          },
          "metadata": {
            "tags": []
          }
        },
        {
          "output_type": "display_data",
          "data": {
            "text/plain": [
              "[1] 1.20672"
            ],
            "text/latex": "1.20672045727435",
            "text/markdown": "1.20672045727435",
            "text/html": [
              "1.20672045727435"
            ]
          },
          "metadata": {
            "tags": []
          }
        },
        {
          "output_type": "display_data",
          "data": {
            "text/plain": [
              "[1] 0.430437"
            ],
            "text/latex": "0.430436982155294",
            "text/markdown": "0.430436982155294",
            "text/html": [
              "0.430436982155294"
            ]
          },
          "metadata": {
            "tags": []
          }
        }
      ]
    }
  ]
}